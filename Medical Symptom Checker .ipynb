{
 "cells": [
  {
   "cell_type": "code",
   "execution_count": 1,
   "id": "da54c4e7-5a78-45fa-8f6d-cad8a549b0e6",
   "metadata": {},
   "outputs": [],
   "source": [
    "import os\n",
    "from groq import Groq"
   ]
  },
  {
   "cell_type": "code",
   "execution_count": null,
   "id": "26d819de-da28-4ca8-8dd0-62303f0f3767",
   "metadata": {},
   "outputs": [],
   "source": [
    "client = Groq(api_key=\"enter your api key here\")"
   ]
  },
  {
   "cell_type": "code",
   "execution_count": 19,
   "id": "ebfe6489-2b01-418b-8e0b-2cdc276a7f7c",
   "metadata": {},
   "outputs": [],
   "source": [
    "def extract_symptoms(user_input):\n",
    "    prompt = (\n",
    "        \"You are a medical data extractor. From the following user input, extract: \"\n",
    "        \"1. Specific symptoms (e.g., fever, headache). \"\n",
    "        \"2. Duration, if mentioned (e.g., two days). \"\n",
    "        \"3. Severity, if described (e.g., mild, severe). \"\n",
    "        \"Return the result in this format:\\n\"\n",
    "        \"- Symptoms: [list symptoms]\\n\"\n",
    "        \"- Duration: [duration or 'not specified']\\n\"\n",
    "        \"- Severity: [severity or 'not specified']\\n\\n\"\n",
    "        f\"User input: '{user_input}'\"\n",
    "    )\n",
    "    \n",
    "    try:\n",
    "        response = client.chat.completions.create(\n",
    "            model=\"llama-3.3-70b-versatile\",\n",
    "            messages=[{\"role\": \"user\", \"content\": prompt}],\n",
    "            max_tokens=200,\n",
    "            temperature=0.2  # Low temperature for structured output\n",
    "        )\n",
    "        \n",
    "        # Parse the response\n",
    "        response_text = response.choices[0].message.content.strip()\n",
    "        symptoms, duration, severity = [\"unknown symptom\"], \"not specified\", \"not specified\"\n",
    "        \n",
    "        for line in response_text.split(\"\\n\"):\n",
    "            if line.startswith(\"- Symptoms:\"):\n",
    "                symptoms = line.split(\": \")[1].strip(\"[]\").split(\", \")\n",
    "            elif line.startswith(\"- Duration:\"):\n",
    "                duration = line.split(\": \")[1].strip()\n",
    "            elif line.startswith(\"- Severity:\"):\n",
    "                severity = line.split(\": \")[1].strip()\n",
    "        \n",
    "        return {\n",
    "            \"Symptoms\": symptoms,\n",
    "            \"Duration\": duration,\n",
    "            \"Severity\": severity\n",
    "        }\n",
    "    except Exception as e:\n",
    "        print(f\"Error extracting symptoms: {e}\")\n",
    "        return {\"Symptoms\": [\"unknown\"], \"Duration\": \"not specified\", \"Severity\": \"not specified\"}"
   ]
  },
  {
   "cell_type": "code",
   "execution_count": 20,
   "id": "a29c8d4e-6974-4742-a2ea-f2494d057332",
   "metadata": {},
   "outputs": [],
   "source": [
    "# Stage 2: Health Summary\n",
    "def generate_health_summary(symptom_data, user_input):\n",
    "    prompt = (\n",
    "        \"You are a friendly health assistant. Using the extracted symptom data below, \"\n",
    "        \"create a concise, personalized health summary for the user. Include: \"\n",
    "        \"1. A restatement of their symptoms in natural language. \"\n",
    "        \"2. Possible conditions (general, e.g., 'could be a cold or stress'). \"\n",
    "        \"3. Simple, actionable next steps (e.g., rest, see a doctor if needed). \"\n",
    "        \"Respond in a conversational tone.\\n\\n\"\n",
    "        f\"Symptom Data:\\n\"\n",
    "        f\"- Symptoms: {', '.join(symptom_data['Symptoms'])}\\n\"\n",
    "        f\"- Duration: {symptom_data['Duration']}\\n\"\n",
    "        f\"- Severity: {symptom_data['Severity']}\\n\"\n",
    "        f\"Original input: '{user_input}'\"\n",
    "    )\n",
    "    \n",
    "    try:\n",
    "        response = client.chat.completions.create(\n",
    "            model=\"llama-3.3-70b-versatile\",\n",
    "            messages=[{\"role\": \"user\", \"content\": prompt}],\n",
    "            max_tokens=300,\n",
    "            temperature=0.8  # Higher temperature for natural tone\n",
    "        )\n",
    "        \n",
    "        return response.choices[0].message.content.strip()\n",
    "    except Exception as e:\n",
    "        print(f\"Error generating summary: {e}\")\n",
    "        return \"Sorry, I couldn’t generate a summary right now. Try again or consult a doctor.\""
   ]
  },
  {
   "cell_type": "code",
   "execution_count": 21,
   "id": "17bad0d3-9789-4b48-a5c2-abe995c70a78",
   "metadata": {},
   "outputs": [
    {
     "name": "stdout",
     "output_type": "stream",
     "text": [
      "Describe your symptoms (or type 'exit' to quit):  RASH ON HANDS\n"
     ]
    },
    {
     "name": "stdout",
     "output_type": "stream",
     "text": [
      "\n",
      "Extracted Data: {'Symptoms': ['rash'], 'Duration': 'not specified', 'Severity': 'not specified'}\n",
      "\n",
      "Health Summary:\n",
      "It sounds like you're experiencing a rash on your hands, and I'm here to help you figure out what might be going on. \n",
      "\n",
      "You've got a rash on your hands, which can be pretty uncomfortable and worrisome. This could be a sign of a skin irritation, an allergic reaction, or possibly even a viral or bacterial infection - it could be something like a cold, an allergic reaction, or even stress that's causing it.\n",
      "\n",
      "For now, try to keep the affected area clean and moisturized to help soothe any discomfort. If the rash persists, worsens, or is accompanied by other symptoms like fever or difficulty breathing, it's a good idea to consult with a doctor to get a proper diagnosis and treatment. They can help you determine the cause and recommend the best course of action.\n",
      "\n",
      "Take care of yourself and feel free to reach out if you have any more questions or concerns.\n",
      "--------------------------------------------------\n"
     ]
    },
    {
     "name": "stdout",
     "output_type": "stream",
     "text": [
      "Describe your symptoms (or type 'exit' to quit):  EXIT\n"
     ]
    },
    {
     "name": "stdout",
     "output_type": "stream",
     "text": [
      "Goodbye!\n"
     ]
    }
   ],
   "source": [
    "# Define the main script with a loop for multiple inputs\n",
    "def main():\n",
    "    while True:\n",
    "        user_input = input(\"Describe your symptoms (or type 'exit' to quit): \")\n",
    "        if user_input.lower() == \"exit\":\n",
    "            print(\"Goodbye!\")\n",
    "            break\n",
    "        \n",
    "        # Stage 1: Extract symptoms\n",
    "        symptom_data = extract_symptoms(user_input)\n",
    "        print(\"\\nExtracted Data:\", symptom_data)  # For debugging\n",
    "        \n",
    "        # Stage 2: Generate health summary\n",
    "        health_summary = generate_health_summary(symptom_data, user_input)\n",
    "        print(\"\\nHealth Summary:\")\n",
    "        print(health_summary)\n",
    "        print(\"-\" * 50)\n",
    "\n",
    "# Run the script\n",
    "if __name__ == \"__main__\":\n",
    "    main()"
   ]
  },
  {
   "cell_type": "code",
   "execution_count": null,
   "id": "0d3e56e7-9ed3-43a8-8fc5-7ffef0d4e914",
   "metadata": {},
   "outputs": [],
   "source": []
  }
 ],
 "metadata": {
  "kernelspec": {
   "display_name": "Python 3 (ipykernel)",
   "language": "python",
   "name": "python3"
  },
  "language_info": {
   "codemirror_mode": {
    "name": "ipython",
    "version": 3
   },
   "file_extension": ".py",
   "mimetype": "text/x-python",
   "name": "python",
   "nbconvert_exporter": "python",
   "pygments_lexer": "ipython3",
   "version": "3.13.2"
  }
 },
 "nbformat": 4,
 "nbformat_minor": 5
}
