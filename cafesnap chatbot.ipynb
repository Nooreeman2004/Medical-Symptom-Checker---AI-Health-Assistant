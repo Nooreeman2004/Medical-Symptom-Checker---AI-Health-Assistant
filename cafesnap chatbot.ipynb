{
 "cells": [
  {
   "cell_type": "markdown",
   "id": "1e88b0f5-1608-4424-94b4-1aa1309d9498",
   "metadata": {},
   "source": [
    "User Input → Preprocessing → Prompt → LLM → Response → History Update (pipeline workflow)"
   ]
  },
  {
   "cell_type": "code",
   "execution_count": null,
   "id": "52c9bff0-5722-4200-9a5f-f7fd076364cd",
   "metadata": {},
   "outputs": [],
   "source": [
    "import os\n",
    "os.environ[\"GROQ_API_KEY\"] = \"add your api key here\""
   ]
  },
  {
   "cell_type": "code",
   "execution_count": 2,
   "id": "14e3bf29-4307-4648-9c61-5e54fbd4be1f",
   "metadata": {},
   "outputs": [],
   "source": [
    "# Import required libraries\n",
    "from langchain_groq import ChatGroq\n",
    "from langchain_core.prompts import ChatPromptTemplate, MessagesPlaceholder\n",
    "from langchain_core.chat_history import InMemoryChatMessageHistory\n",
    "from langchain_core.runnables import RunnableLambda\n",
    "from langchain_core.runnables.history import RunnableWithMessageHistory"
   ]
  },
  {
   "cell_type": "code",
   "execution_count": 3,
   "id": "c9b4044f-550c-45b8-ae17-9b018a5ea048",
   "metadata": {},
   "outputs": [],
   "source": [
    "# Step 2: Define Cafe Menu and Hit Dish\n",
    "cafe_menu = {\n",
    "    \"Espresso\": {\"price\": 3.00, \"tags\": [\"coffee\", \"quick\"], \"ingredients\": \"espresso beans, water\", \"description\": \"A bold, quick caffeine kick!\"},\n",
    "    \"Latte\": {\"price\": 4.00, \"tags\": [\"coffee\", \"creamy\"], \"ingredients\": \"espresso, steamed milk\", \"description\": \"Smooth and creamy coffee bliss.\"},\n",
    "    \"Muffin\": {\"price\": 2.50, \"tags\": [\"sweet\", \"snack\"], \"ingredients\": \"flour, sugar, blueberries\", \"description\": \"Sweet blueberry goodness in every bite.\"},\n",
    "    \"Avocado Toast\": {\"price\": 5.00, \"tags\": [\"trendy\", \"healthy\"], \"ingredients\": \"avocado, toast, lemon\", \"description\": \"Trendy, fresh, and oh-so-tasty!\", \"hit\": True}\n",
    "}\n",
    "hit_dish = \"Avocado Toast\""
   ]
  },
  {
   "cell_type": "code",
   "execution_count": 4,
   "id": "de5c86ac-8d9b-43fb-827f-062347abc308",
   "metadata": {},
   "outputs": [],
   "source": [
    "# Step 3: Initialize LLM\n",
    "llm = ChatGroq(model=\"llama3-70b-8192\", temperature=0)"
   ]
  },
  {
   "cell_type": "code",
   "execution_count": 5,
   "id": "515350da-06f1-4f47-9146-dda1a7a563af",
   "metadata": {},
   "outputs": [],
   "source": [
    "# Step 4: Chat History and Cart Management\n",
    "chat_histories = {}\n",
    "carts = {}"
   ]
  },
  {
   "cell_type": "code",
   "execution_count": 6,
   "id": "3f23b202-f421-4a36-b9b3-1a9b772a5bec",
   "metadata": {},
   "outputs": [],
   "source": [
    "def get_chat_history(session_id: str):\n",
    "    if session_id not in chat_histories:\n",
    "        chat_histories[session_id] = InMemoryChatMessageHistory()\n",
    "    return chat_histories[session_id]"
   ]
  },
  {
   "cell_type": "code",
   "execution_count": 7,
   "id": "7c6e3c79-76be-4ea0-8ea4-7755857937b1",
   "metadata": {},
   "outputs": [],
   "source": [
    "def get_cart(session_id: str):\n",
    "    if session_id not in carts:\n",
    "        carts[session_id] = []\n",
    "    return carts[session_id]"
   ]
  },
  {
   "cell_type": "code",
   "execution_count": 8,
   "id": "054cc78d-8546-4bed-ac0a-5941d1d290e6",
   "metadata": {},
   "outputs": [],
   "source": [
    "# Step 5: Dynamic Menu Filtering Function\n",
    "def filter_menu(user_input, menu):\n",
    "    user_input = user_input.lower()\n",
    "    filtered_items = []\n",
    "\n",
    "    # Price-based queries\n",
    "    if \"under\" in user_input or \"cheap\" in user_input:\n",
    "        try:\n",
    "            price_limit = float(next(word for word in user_input.split() if word.replace(\"$\", \"\").replace(\".\", \"\").isdigit()).replace(\"$\", \"\"))\n",
    "            filtered_items = [item for item, data in menu.items() if data[\"price\"] <= price_limit]\n",
    "        except (StopIteration, ValueError):\n",
    "            filtered_items = [item for item, data in menu.items() if data[\"price\"] <= 4.00]  # Default to $4\n",
    "\n",
    "    # Tag-based queries\n",
    "    elif any(tag in user_input for tag in [\"sweet\", \"coffee\", \"creamy\", \"healthy\", \"quick\", \"trendy\", \"snack\"]):\n",
    "        for tag in user_input.split():\n",
    "            filtered_items.extend([item for item, data in menu.items() if tag in data[\"tags\"]])\n",
    "        filtered_items = list(set(filtered_items))  # Remove duplicates\n",
    "\n",
    "    # Default: return all items if no specific query detected\n",
    "    if not filtered_items:\n",
    "        filtered_items = list(menu.keys())\n",
    "\n",
    "    # Format with rich descriptions\n",
    "    result = \"\\n\".join(f\"{item}: ${menu[item]['price']:.2f} - {menu[item]['description']} ({', '.join(menu[item]['tags'])})\" \n",
    "                      for item in filtered_items)\n",
    "    return result if result else \"Sorry, nothing matches that! Try our hit dish, Avocado Toast 🥑!\""
   ]
  },
  {
   "cell_type": "code",
   "execution_count": 9,
   "id": "07b4bfd2-702c-46b0-9aa0-40024328087f",
   "metadata": {},
   "outputs": [],
   "source": [
    "# Step 6: Order System Function\n",
    "def handle_order(user_input, menu, cart):\n",
    "    user_input = user_input.lower()\n",
    "    if \"take\" in user_input or \"order\" in user_input or \"want\" in user_input:\n",
    "        for item in menu:\n",
    "            if item.lower() in user_input:\n",
    "                cart.append(item)\n",
    "                return f\"Added {item} to your cart! 🛒 Anything else? (Cart: {', '.join(cart)})\"\n",
    "        return \"Sorry, we don’t have that! Check the menu or try our hit dish, Avocado Toast 🥑.\"\n",
    "    elif \"cart\" in user_input:\n",
    "        return f\"Your cart: {', '.join(cart) if cart else 'empty'} 🛒. Ready to order more?\"\n",
    "    elif \"clear cart\" in user_input:\n",
    "        cart.clear()\n",
    "        return \"Cart cleared! Start fresh? ✨\"\n",
    "    return None"
   ]
  },
  {
   "cell_type": "code",
   "execution_count": 10,
   "id": "e77798e0-0ac4-43ff-9a76-68f7d5eb57da",
   "metadata": {},
   "outputs": [],
   "source": [
    "# Step 7: Preprocessing Function for Chain\n",
    "def preprocess_input(input_dict, config=None):\n",
    "    user_input = input_dict[\"user_input\"]\n",
    "    session_id = input_dict.get(\"session_id\", \"user1\")  # Default session ID\n",
    "    cart = get_cart(session_id)\n",
    "    \n",
    "    # Get chat history from the session\n",
    "    chat_history = get_chat_history(session_id).messages if session_id in chat_histories else []\n",
    "\n",
    "    # Handle order-related input first\n",
    "    order_response = handle_order(user_input, cafe_menu, cart)\n",
    "    if order_response:\n",
    "        return {\n",
    "            \"user_input\": user_input,\n",
    "            \"menu\": \"\\n\".join(f\"{item}: ${data['price']:.2f} - {data['description']} ({', '.join(data['tags'])})\" \n",
    "                              for item, data in cafe_menu.items()),\n",
    "            \"hit_dish\": hit_dish,\n",
    "            \"filtered_menu\": order_response,\n",
    "            \"cart\": \", \".join(cart) if cart else \"empty\",\n",
    "            \"chat_history\": chat_history  # Pass chat history explicitly\n",
    "        }\n",
    "\n",
    "    # Otherwise, filter menu dynamically\n",
    "    full_menu_str = \"\\n\".join(f\"{item}: ${data['price']:.2f} - {data['description']} ({', '.join(data['tags'])})\" \n",
    "                              for item, data in cafe_menu.items())\n",
    "    filtered_menu = filter_menu(user_input, cafe_menu)\n",
    "    \n",
    "    return {\n",
    "        \"user_input\": user_input,\n",
    "        \"menu\": full_menu_str,\n",
    "        \"hit_dish\": hit_dish,\n",
    "        \"filtered_menu\": filtered_menu,\n",
    "        \"cart\": \", \".join(cart) if cart else \"empty\",\n",
    "        \"chat_history\": chat_history  # Pass chat history explicitly\n",
    "    }"
   ]
  },
  {
   "cell_type": "code",
   "execution_count": 11,
   "id": "b58395ac-5fb8-4858-b21a-54de61f00b08",
   "metadata": {},
   "outputs": [],
   "source": [
    "# Step 8: Updated Prompt with Rich Responses and Order Support\n",
    "prompt = ChatPromptTemplate.from_messages([\n",
    "    (\"system\", \"You are CafeSnap, a friendly cafe chatbot ☕. Help users with the menu. Full menu:\\n{menu}\\nThe hit dish is {hit_dish} 🥑. If I provide a filtered menu, use it: {filtered_menu}. Current cart: {cart} 🛒. Keep it short, fun, and helpful! Say 'Welcome to CafeSnap! 👋' only on the first response. If an item isn’t on the menu, say 'Sorry, we don’t have that!' and suggest the hit dish. Offer ingredients if asked (e.g., 'Latte has espresso, steamed milk'). Use emojis where fun!\"),\n",
    "    MessagesPlaceholder(variable_name=\"chat_history\"),\n",
    "    (\"human\", \"{user_input}\")\n",
    "])"
   ]
  },
  {
   "cell_type": "code",
   "execution_count": 12,
   "id": "dcc2ff6e-867b-4e82-a333-7f656ad60f18",
   "metadata": {},
   "outputs": [],
   "source": [
    "# Step 9: Build the Chain\n",
    "chain = RunnableLambda(lambda x: preprocess_input(x)) | prompt | llm\n",
    "chatbot = RunnableWithMessageHistory(\n",
    "    chain,\n",
    "    get_chat_history,\n",
    "    input_messages_key=\"user_input\",\n",
    "    history_messages_key=\"chat_history\"\n",
    ")"
   ]
  },
  {
   "cell_type": "code",
   "execution_count": null,
   "id": "bac3e392-ff25-43bc-9500-654c828c0a35",
   "metadata": {},
   "outputs": [],
   "source": []
  },
  {
   "cell_type": "code",
   "execution_count": null,
   "id": "510b0d0a-2cdc-4075-a1b3-fbe48deaeb04",
   "metadata": {},
   "outputs": [
    {
     "name": "stdout",
     "output_type": "stream",
     "text": [
      "=== WELCOME TO CAFESNAP ===\n",
      "CafeSnap: Welcome to CafeSnap! 👋 We've got a delicious menu for you! 🤩 Here's what we've got:\n",
      "\n",
      "Espresso: $3.00 - A bold, quick caffeine kick! (coffee, quick)\n",
      "Latte: $4.00 - Smooth and creamy coffee bliss. (coffee, creamy)\n",
      "Muffin: $2.50 - Sweet blueberry goodness in every bite. (sweet, snack)\n",
      "Avocado Toast: $5.00 - Trendy, fresh, and oh-so-tasty! (trendy, healthy)\n",
      "\n",
      "What can I get for you? 🤔\n",
      "\n",
      "CafeSnap: Added Latte to your cart! 🛒 Anything else? (Cart: Latte)\n",
      "\n",
      "CafeSnap: Your cart: Latte 🛒. Ready to order more? 😊\n",
      "\n",
      "Start chatting with CafeSnap! Type 'exit' to quit.\n",
      "\n"
     ]
    },
    {
     "name": "stdout",
     "output_type": "stream",
     "text": [
      "You:  what is under 5$\n"
     ]
    },
    {
     "name": "stdout",
     "output_type": "stream",
     "text": [
      "CafeSnap: 😊 We've got three options under $5:\n",
      "\n",
      "Espresso: $3.00 - A bold, quick caffeine kick! (coffee, quick)\n",
      "Muffin: $2.50 - Sweet blueberry goodness in every bite. (sweet, snack)\n",
      "Latte: $4.00 - Smooth and creamy coffee bliss. (coffee, creamy)\n",
      "\n",
      "Which one catches your eye? 👀\n",
      "\n"
     ]
    },
    {
     "name": "stdout",
     "output_type": "stream",
     "text": [
      "You:  i want latte\n"
     ]
    },
    {
     "name": "stdout",
     "output_type": "stream",
     "text": [
      "CafeSnap: Added Latte to your cart! 🛒 Anything else? (Cart: Latte, Latte)\n",
      "\n"
     ]
    },
    {
     "name": "stdout",
     "output_type": "stream",
     "text": [
      "You:  whats my order\n"
     ]
    },
    {
     "name": "stdout",
     "output_type": "stream",
     "text": [
      "CafeSnap: Your current order: Latte, Latte 🛒. Ready to finalize? 😊\n",
      "\n"
     ]
    },
    {
     "name": "stdout",
     "output_type": "stream",
     "text": [
      "You:  checkout\n"
     ]
    },
    {
     "name": "stdout",
     "output_type": "stream",
     "text": [
      "CafeSnap: You've checked out! Your total comes to be $8.00. Enjoy your Lattes! ☕️ Thanks for stopping by CafeSnap! 👋\n",
      "\n"
     ]
    },
    {
     "name": "stdout",
     "output_type": "stream",
     "text": [
      "You:  bye\n"
     ]
    },
    {
     "name": "stdout",
     "output_type": "stream",
     "text": [
      "CafeSnap: See you next time at CafeSnap! 👋\n",
      "\n"
     ]
    }
   ],
   "source": [
    "# Step 10: Test the Chatbot\n",
    "def run_chatbot():\n",
    "    session_id = \"user1\"  \n",
    "    print(\"Start chatting with CafeSnap! Type 'exit' to quit.\\n\")\n",
    "    \n",
    "    while True:\n",
    "        user_input = input(\"You: \")\n",
    "        if user_input.lower() == \"exit\":\n",
    "            print(\"Thanks for visiting CafeSnap! ☕\")\n",
    "            break\n",
    "        \n",
    "        # Invoke the chatbot with the user input\n",
    "        response = chatbot.invoke(\n",
    "            {\"user_input\": user_input, \"session_id\": session_id},\n",
    "            config={\"configurable\": {\"session_id\": session_id}}\n",
    "        )\n",
    "        print(f\"CafeSnap: {response.content}\\n\")\n",
    "\n",
    "\n",
    "print(\"=== WELCOME TO CAFESNAP ===\")\n",
    "session_id = \"user1\"\n",
    "\n",
    "# Test 1: Initial greeting and menu\n",
    "response1 = chatbot.invoke(\n",
    "    {\"user_input\": \"What’s on the menu?\", \"session_id\": session_id},\n",
    "    config={\"configurable\": {\"session_id\": session_id}}\n",
    ")\n",
    "print(f\"CafeSnap: {response1.content}\\n\")\n",
    "\n",
    "# Test 2: Ordering something\n",
    "response2 = chatbot.invoke(\n",
    "    {\"user_input\": \"I want a Latte\", \"session_id\": session_id},\n",
    "    config={\"configurable\": {\"session_id\": session_id}}\n",
    ")\n",
    "print(f\"CafeSnap: {response2.content}\\n\")\n",
    "\n",
    "# Test 3: Checking the cart\n",
    "response3 = chatbot.invoke(\n",
    "    {\"user_input\": \"What’s in my cart?\", \"session_id\": session_id},\n",
    "    config={\"configurable\": {\"session_id\": session_id}}\n",
    ")\n",
    "print(f\"CafeSnap: {response3.content}\\n\")\n",
    "\n",
    "run_chatbot()"
   ]
  },
  {
   "cell_type": "code",
   "execution_count": null,
   "id": "9605f04f-800d-4fe5-b93e-0beb6262e24e",
   "metadata": {},
   "outputs": [],
   "source": []
  },
  {
   "cell_type": "code",
   "execution_count": null,
   "id": "28d0ffa6-23f7-4605-a781-8bccd2d3cfcb",
   "metadata": {},
   "outputs": [],
   "source": []
  }
 ],
 "metadata": {
  "kernelspec": {
   "display_name": "Python 3 (ipykernel)",
   "language": "python",
   "name": "python3"
  },
  "language_info": {
   "codemirror_mode": {
    "name": "ipython",
    "version": 3
   },
   "file_extension": ".py",
   "mimetype": "text/x-python",
   "name": "python",
   "nbconvert_exporter": "python",
   "pygments_lexer": "ipython3",
   "version": "3.13.2"
  }
 },
 "nbformat": 4,
 "nbformat_minor": 5
}
